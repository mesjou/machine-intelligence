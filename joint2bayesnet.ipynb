{
 "cells": [
  {
   "cell_type": "code",
   "execution_count": null,
   "outputs": [],
   "source": [],
   "metadata": {
    "collapsed": false,
    "pycharm": {
     "name": "#%%\n"
    }
   }
  },
  {
   "cell_type": "markdown",
   "metadata": {},
   "source": [
    "# Applying the Toothache example to the pgmpy package"
   ]
  },
  {
   "cell_type": "code",
   "execution_count": 1,
   "metadata": {},
   "outputs": [
    {
     "name": "stderr",
     "output_type": "stream",
     "text": [
      "/Users/matthias/.pyenv/versions/3.9.9/envs/machine-env/lib/python3.9/site-packages/pandas/compat/__init__.py:124: UserWarning: Could not import the lzma module. Your installed Python is incomplete. Attempting to use lzma compression will result in a RuntimeError.\n",
      "  warnings.warn(msg)\n"
     ]
    }
   ],
   "source": [
    "from pgmpy.factors.discrete import JointProbabilityDistribution as JPD\n",
    "from pgmpy.independencies import Independencies\n",
    "from pgmpy.models import BayesianModel\n",
    "import networkx as nx\n",
    "import pylab as plt"
   ]
  },
  {
   "cell_type": "markdown",
   "metadata": {},
   "source": [
    "## Input the full joint distribution"
   ]
  },
  {
   "cell_type": "code",
   "execution_count": 2,
   "metadata": {},
   "outputs": [],
   "source": [
    "p = JPD(['Toothache', 'Cavity', 'Catch'], [2,2,2],\n",
    "         [0.576, #!T !V, !C\n",
    "          0.144, #!T !V, C\n",
    "          0.008, #!T V, !C\n",
    "          0.072, #!T V, C\n",
    "          0.064, #T !V, !C\n",
    "          0.016, #T !V, C\n",
    "          0.012, #T V, !C\n",
    "          0.108, #T V, C\n",
    "         ])"
   ]
  },
  {
   "cell_type": "markdown",
   "metadata": {},
   "source": [
    "## Check for cond. independence"
   ]
  },
  {
   "cell_type": "code",
   "execution_count": 3,
   "metadata": {},
   "outputs": [
    {
     "name": "stdout",
     "output_type": "stream",
     "text": [
      "Toothache is independent of Catch given Cavity: True\n",
      "Cavity is independent of Catch given Toothache: False\n",
      "Toothache is independent of Cavity given Catch: False\n"
     ]
    }
   ],
   "source": [
    "p.check_independence(['Toothache'], ['Cavity'])\n",
    "p.check_independence(['Toothache'], ['Catch'])\n",
    "is_tc_v = p.check_independence(['Toothache'], ['Catch'], ('Cavity', ), condition_random_variable=True)\n",
    "is_vc_t = p.check_independence(['Cavity'], ['Catch'], ('Toothache', ), condition_random_variable=True)\n",
    "is_tv_c = p.check_independence(['Toothache'], ['Cavity'], ('Catch', ), condition_random_variable=True)\n",
    "\n",
    "print('%s is independent of %s given %s: %s' % ('Toothache', 'Catch', 'Cavity', is_tc_v))\n",
    "print('%s is independent of %s given %s: %s' % ('Cavity', 'Catch', 'Toothache', is_vc_t))\n",
    "print('%s is independent of %s given %s: %s' % ('Toothache', 'Cavity', 'Catch', is_tv_c))"
   ]
  },
  {
   "cell_type": "markdown",
   "metadata": {},
   "source": [
    "# Alternative search for conditional independence(s)"
   ]
  },
  {
   "cell_type": "code",
   "execution_count": 4,
   "metadata": {},
   "outputs": [
    {
     "name": "stdout",
     "output_type": "stream",
     "text": [
      "Any statistical indepndences?\n",
      "None\n",
      "Conditional independencies given Cavity? (Toothache ⟂ Catch)\n",
      "Conditional independencies given Toothache? None\n",
      "Conditional independencies given Catch? None\n"
     ]
    }
   ],
   "source": [
    "x = p.get_independencies()\n",
    "print('Any statistical indepndences?')\n",
    "# if nothing is printed, then there none of the variables are statistically indep. from one another.\n",
    "if x == Independencies():\n",
    "    print('None')\n",
    "else:\n",
    "    print('Yes:', x)\n",
    "# This following method actually checks if conditioniing onsome variables \n",
    "# is equal to the product of the marginals conditioned on the same variable\n",
    "cond_on = p.get_independencies(condition=[('Cavity',1),])\n",
    "print('Conditional independencies given Cavity?', cond_on)\n",
    "cond_on = p.get_independencies(condition=[('Toothache',0),])\n",
    "print('Conditional independencies given Toothache?', [cond_on, 'None'][cond_on==Independencies()])\n",
    "cond_on = p.get_independencies(condition=[('Catch',0),])\n",
    "print('Conditional independencies given Catch?', [cond_on, 'None'][cond_on==Independencies()])"
   ]
  },
  {
   "cell_type": "code",
   "execution_count": 5,
   "metadata": {},
   "outputs": [
    {
     "name": "stderr",
     "output_type": "stream",
     "text": [
      "/Users/matthias/.pyenv/versions/3.9.9/envs/machine-env/lib/python3.9/site-packages/pgmpy/models/BayesianModel.py:8: FutureWarning: BayesianModel has been renamed to BayesianNetwork. Please use BayesianNetwork class, BayesianModel will be removed in future.\n",
      "  warnings.warn(\n"
     ]
    },
    {
     "data": {
      "text/plain": "<Figure size 432x288 with 1 Axes>",
      "image/png": "[encoded data removed]"
     },
     "metadata": {},
     "output_type": "display_data"
    }
   ],
   "source": [
    "def drawDAG(joint_distr):\n",
    "    pairs = [(a,b) for b in p.variables for a in p.variables if a != b]\n",
    "    edges = set()\n",
    "    for a, b in pairs:\n",
    "        is_dep = joint_distr.check_independence([a], [b])\n",
    "        if not is_dep:\n",
    "            edges.add((a,b))\n",
    "    edges2 = set()\n",
    "    for a, b in edges:\n",
    "        for c in p.variables:\n",
    "            if c not in (a,b):\n",
    "                is_cond_indep = joint_distr.check_independence([a], [b], (c,), condition_random_variable=True)\n",
    "#                 print(a,b,c, is_cond_indep)\n",
    "                if is_cond_indep:\n",
    "                    edges2.add((c, a))\n",
    "                    edges2.add((c, b))\n",
    "    model = BayesianModel(edges2)\n",
    "    for v in p.variables:\n",
    "        if not any(v in e for e in edges2):\n",
    "            model.add_node(v)\n",
    "    nx.draw(model, with_labels=True)\n",
    "    plt.show()\n",
    "drawDAG(p)"
   ]
  },
  {
   "cell_type": "markdown",
   "metadata": {},
   "source": [
    "# Add weather\n",
    "\n",
    "add a weather variable to the full joint distribution then verify that weather is statistically independent from the other 3 variables"
   ]
  },
  {
   "cell_type": "code",
   "execution_count": 6,
   "metadata": {},
   "outputs": [
    {
     "name": "stdout",
     "output_type": "stream",
     "text": [
      "Statistical independencies:\n",
      "(Weather ⟂ Toothache)\n",
      "(Weather ⟂ Cavity)\n",
      "(Weather ⟂ Catch)\n"
     ]
    },
    {
     "data": {
      "text/plain": "<Figure size 432x288 with 1 Axes>",
      "image/png": "[encoded data removed]"
     },
     "metadata": {},
     "output_type": "display_data"
    }
   ],
   "source": [
    "p = JPD(['Weather', 'Toothache', 'Cavity', 'Catch'], [4,2,2,2],\n",
    "         [#W rainy: \n",
    "          0.576*0.6, #!T !V, !C\n",
    "          0.144*0.6, #!T !V, C\n",
    "          0.008*0.6, #!T V, !C\n",
    "          0.072*0.6, #!T V, C\n",
    "          0.064*0.6, #T !V, !C\n",
    "          0.016*0.6, #T !V, C\n",
    "          0.012*0.6, #T V, !C\n",
    "          0.108*0.6, #T V, C\n",
    "        #W sunny:\n",
    "          0.576*0.2, #!T !V, !C\n",
    "          0.144*0.2, #!T !V, C\n",
    "          0.008*0.2, #!T V, !C\n",
    "          0.072*0.2, #!T V, C\n",
    "          0.064*0.2, #T !V, !C\n",
    "          0.016*0.2, #T !V, C\n",
    "          0.012*0.2, #T V, !C\n",
    "          0.108*0.2, #T V, C\n",
    "        #W cloudy:\n",
    "          0.576*0.1, #!T !V, !C\n",
    "          0.144*0.1, #!T !V, C\n",
    "          0.008*0.1, #!T V, !C\n",
    "          0.072*0.1, #!T V, C\n",
    "          0.064*0.1, #T !V, !C\n",
    "          0.016*0.1, #T !V, C\n",
    "          0.012*0.1, #T V, !C\n",
    "          0.108*0.1, #T V, C\n",
    "        #W snow:\n",
    "          0.576*0.1, #!T !V, !C\n",
    "          0.144*0.1, #!T !V, C\n",
    "          0.008*0.1, #!T V, !C\n",
    "          0.072*0.1, #!T V, C\n",
    "          0.064*0.1, #T !V, !C\n",
    "          0.016*0.1, #T !V, C\n",
    "          0.012*0.1, #T V, !C\n",
    "          0.108*0.1, #T V, C\n",
    "         ])\n",
    "print(\"Statistical independencies:\")\n",
    "print(p.get_independencies())\n",
    "drawDAG(p)"
   ]
  },
  {
   "cell_type": "code",
   "execution_count": 6,
   "metadata": {},
   "outputs": [],
   "source": []
  }
 ],
 "metadata": {
  "kernelspec": {
   "display_name": "Python 3",
   "language": "python",
   "name": "python3"
  },
  "language_info": {
   "codemirror_mode": {
    "name": "ipython",
    "version": 3
   },
   "file_extension": ".py",
   "mimetype": "text/x-python",
   "name": "python",
   "nbconvert_exporter": "python",
   "pygments_lexer": "ipython3",
   "version": "3.8.5"
  },
  "latex_envs": {
   "LaTeX_envs_menu_present": true,
   "autoclose": false,
   "autocomplete": true,
   "bibliofile": "biblio.bib",
   "cite_by": "apalike",
   "current_citInitial": 1,
   "eqLabelWithNumbers": true,
   "eqNumInitial": 1,
   "hotkeys": {
    "equation": "Ctrl-E",
    "itemize": "Ctrl-I"
   },
   "labels_anchors": false,
   "latex_user_defs": false,
   "report_style_numbering": false,
   "user_envs_cfg": false
  },
  "toc": {
   "base_numbering": 1,
   "nav_menu": {},
   "number_sections": true,
   "sideBar": true,
   "skip_h1_title": false,
   "title_cell": "Table of Contents",
   "title_sidebar": "Contents",
   "toc_cell": false,
   "toc_position": {},
   "toc_section_display": true,
   "toc_window_display": false
  }
 },
 "nbformat": 4,
 "nbformat_minor": 2
}