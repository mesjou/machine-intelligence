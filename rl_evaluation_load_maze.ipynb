{
 "cells": [
  {
   "cell_type": "code",
   "execution_count": 1,
   "metadata": {},
   "outputs": [],
   "source": [
    "import numpy as np\n",
    "import matplotlib.pyplot as plt"
   ]
  },
  {
   "cell_type": "code",
   "execution_count": 2,
   "metadata": {},
   "outputs": [
    {
     "data": {
      "text/plain": "<Figure size 1440x720 with 4 Axes>",
      "image/png": "[encoded data removed]"
     },
     "metadata": {
      "needs_background": "light"
     },
     "output_type": "display_data"
    }
   ],
   "source": [
    "def load_mazes(file_location):\n",
    "    f = open(file_location, 'r')\n",
    "    mazes_raw = f.readlines()\n",
    "    # process maze input\n",
    "    mazes = []\n",
    "    current_maze = []\n",
    "    for line in mazes_raw:\n",
    "        if repr(line) == repr(\"\\n\"):\n",
    "            # skip between two mazes\n",
    "            if len(current_maze) > 0:\n",
    "                mazes.append(current_maze)\n",
    "            current_maze = []\n",
    "        else:\n",
    "            maze_row = []\n",
    "            for el in line:\n",
    "                if el == ' ':\n",
    "                    maze_row.append(1)\n",
    "                elif el == '#':\n",
    "                    maze_row.append(0)\n",
    "                elif el == 'X':\n",
    "                    maze_row.append(2)\n",
    "                # strategy specific:\n",
    "                elif el == '<':\n",
    "                    maze_row.append(3)\n",
    "                elif el == '>':\n",
    "                    maze_row.append(4)\n",
    "                elif el == '^':\n",
    "                    maze_row.append(5)\n",
    "                elif el == 'v':\n",
    "                    maze_row.append(6)\n",
    "            current_maze.append(maze_row)\n",
    "    return np.array(mazes)\n",
    "\n",
    "mazes = load_mazes('mazes.txt')\n",
    "num_mazes = mazes.shape[0]\n",
    "fig = plt.figure(figsize=(20, 10))\n",
    "# Visualize the first 4 mazes\n",
    "for m_idx, maze in enumerate(mazes[:-1]):\n",
    "    plt.subplot(1, num_mazes, m_idx + 1)\n",
    "    plt.title('maze {}'.format(m_idx + 1))\n",
    "    plt.imshow(maze, interpolation='none', cmap='jet')\n",
    "    plt.axis('off')"
   ]
  },
  {
   "cell_type": "code",
   "execution_count": null,
   "metadata": {},
   "outputs": [],
   "source": []
  }
 ],
 "metadata": {
  "kernelspec": {
   "display_name": "Python 3 (ipykernel)",
   "language": "python",
   "name": "python3"
  },
  "language_info": {
   "codemirror_mode": {
    "name": "ipython",
    "version": 3
   },
   "file_extension": ".py",
   "mimetype": "text/x-python",
   "name": "python",
   "nbconvert_exporter": "python",
   "pygments_lexer": "ipython3",
   "version": "3.8.2"
  },
  "latex_envs": {
   "LaTeX_envs_menu_present": true,
   "autoclose": false,
   "autocomplete": true,
   "bibliofile": "biblio.bib",
   "cite_by": "apalike",
   "current_citInitial": 1,
   "eqLabelWithNumbers": true,
   "eqNumInitial": 1,
   "hotkeys": {
    "equation": "Ctrl-E",
    "itemize": "Ctrl-I"
   },
   "labels_anchors": false,
   "latex_user_defs": false,
   "report_style_numbering": false,
   "user_envs_cfg": false
  },
  "toc": {
   "base_numbering": 1,
   "nav_menu": {},
   "number_sections": true,
   "sideBar": true,
   "skip_h1_title": false,
   "title_cell": "Table of Contents",
   "title_sidebar": "Contents",
   "toc_cell": false,
   "toc_position": {},
   "toc_section_display": true,
   "toc_window_display": false
  }
 },
 "nbformat": 4,
 "nbformat_minor": 2
}
