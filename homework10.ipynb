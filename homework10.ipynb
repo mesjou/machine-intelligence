{
 "cells": [
  {
   "cell_type": "markdown",
   "source": [
    "# Excercise H10.1\n",
    "\n",
    "The objective of our algorithm is to\n",
    "\\begin{align*}\n",
    "&\\min_{w, b, \\varphi_{\\alpha}, \\varphi_{\\alpha}^*, \\epsilon} \\frac{1}{2}||w||_2^2 +C \\left[ \\nu \\epsilon + \\frac{1}{p}\\sum_{\\alpha=1}^p (\\varphi_{\\alpha}+ \\varphi_{\\alpha}^*) \\right] \\\\\n",
    "&\\text{subject to: } \\\\\n",
    "& w^T x^{(\\alpha)} + b - y_T^{(\\alpha)} \\leq \\epsilon + \\varphi_{\\alpha} \\\\\n",
    "& y_T^{(\\alpha)} - w^T x^{(\\alpha)} - b \\leq \\epsilon + \\varphi_{\\alpha} \\\\\n",
    "& \\varphi_{\\alpha}, \\varphi_{\\alpha}^* \\geq 0 \\\\\n",
    "& \\epsilon \\geq 0\n",
    "\\end{align*}"
   ],
   "metadata": {
    "collapsed": false
   }
  },
  {
   "cell_type": "markdown",
   "source": [
    "This optimization corresponds to the following Lagragian\n",
    "\\begin{align*}\n",
    "& L(w, b,  \\{\\varphi_{\\alpha}\\},  \\{\\varphi_{\\alpha}^*\\}, \\epsilon, \\{\\lambda_{\\alpha}\\}, \\{\\lambda_{\\alpha}^*\\}, \\{\\eta_{\\alpha}\\}, \\{\\eta_{\\alpha}^*\\}, \\delta) \\\\\n",
    "=& \\frac{1}{2}||w||_2^2 +C \\left[ \\nu \\epsilon + \\frac{1}{p}\\sum_{\\alpha=1}^p (\\varphi_{\\alpha}+ \\varphi_{\\alpha}^*) \\right] \\\\\n",
    "-& \\sum_{\\alpha=1}^p \\lambda_{\\alpha} \\left( \\epsilon + \\varphi_{\\alpha} + y_T^{(\\alpha)} - w^T x^{(\\alpha)} - b \\right) \\\\\n",
    "-& \\sum_{\\alpha=1}^p \\lambda_{\\alpha}^* \\left( \\epsilon + \\varphi_{\\alpha}^* - y_T^{(\\alpha)} + w^T x^{(\\alpha)} + b \\right) \\\\\n",
    "-& \\sum_{\\alpha=1}^p \\eta_{\\alpha} \\varphi_{\\alpha} \\\\\n",
    "-& \\sum_{\\alpha=1}^p \\eta_{\\alpha}^* \\varphi_{\\alpha}^* \\\\\n",
    "-& \\delta \\epsilon\n",
    "\\end{align*}\n",
    "with $\\lambda_{\\alpha}, \\lambda_{\\alpha}^* \\eta_{\\alpha}, \\eta_{\\alpha}^*, \\delta \\geq 0$."
   ],
   "metadata": {
    "collapsed": false,
    "pycharm": {
     "name": "#%% md\n"
    }
   }
  },
  {
   "cell_type": "markdown",
   "source": [
    "Step 1: Minimize the Lagrangian with regard to $w, b,  \\{\\varphi_{\\alpha}\\},  \\{\\varphi_{\\alpha}^*\\}, \\epsilon$. Take the derivative and set to 0.\n",
    "\n",
    "\n",
    "\\begin{align*}\n",
    "\\frac{\\partial L}{\\partial w}= w + \\sum_{\\alpha=1}^p \\lambda_\\alpha x^{(\\alpha)} - \\sum_{\\alpha=1}^p \\lambda_{\\alpha}^* x^{(\\alpha)} = 0\n",
    "&\\implies w = \\sum_{\\alpha=1}^p (\\lambda_{\\alpha}^* - \\lambda_\\alpha) x^{(\\alpha)} \\\\\n",
    "\\frac{\\partial L}{\\partial b}=  \\sum_{\\alpha=1}^p \\lambda_\\alpha - \\sum_{\\alpha=1}^p \\lambda_{\\alpha}^* = 0\n",
    "&\\implies \\textcolor{orange}{ \\sum_{\\alpha=1}^p (\\lambda_{\\alpha} - \\lambda_\\alpha^*) = 0 }\\\\\n",
    "\\frac{\\partial L}{\\partial \\varphi_\\alpha}= \\frac{C}{p} - \\lambda_\\alpha - \\eta_{\\alpha} = 0\n",
    "&\\implies \\frac{C}{p} - \\lambda_\\alpha =  \\eta_{\\alpha}  \\text{~~~~for all \\alpha in 1,...,p }\\\\\n",
    "\\frac{\\partial L}{\\partial \\varphi_\\alpha}= \\frac{C}{p} - \\lambda_\\alpha^* - \\eta_{\\alpha}^* = 0\n",
    "&\\implies \\frac{C}{p} - \\lambda_\\alpha^* = \\eta_{\\alpha}^*  \\text{~~~~for all \\alpha in 1,...,p } \\\\\n",
    "\\frac{\\partial L}{\\partial \\epsilon}= C \\nu - \\sum_{\\alpha=1}^p \\lambda_\\alpha - \\sum_{\\alpha=1}^p \\lambda_\\alpha^* - \\delta = 0\n",
    "&\\implies C \\nu - \\sum_{\\alpha=1}^p (\\lambda_\\alpha + \\lambda_\\alpha^*) = \\delta \\\\\n",
    "\\end{align*}\n",
    "\n",
    "With $\\eta_{\\alpha} \\geq 0$ follows $\\lambda_\\alpha \\leq \\frac{C}{p}$ and with $\\eta_{\\alpha}^* \\geq 0$ follows $\\lambda_\\alpha^* \\leq \\frac{C}{p}$\n",
    "Thus, $\\textcolor{orange}{ 0 \\leq \\lambda_\\alpha \\leq \\frac{C}{p} }$ and $\\textcolor{orange}{ 0 \\leq \\lambda_\\alpha^* \\leq \\frac{C}{p} }$\n",
    "With $\\delta \\geq 0$ follows $\\textcolor{orange}{ \\sum_{\\alpha=1}^p (\\lambda_\\alpha + \\lambda_\\alpha^*) \\leq C \\nu  }$\n"
   ],
   "metadata": {
    "collapsed": false,
    "pycharm": {
     "name": "#%% md\n"
    }
   }
  },
  {
   "cell_type": "markdown",
   "source": [
    "Now lets insert the FOC for the constraints.\n",
    "\n",
    "\\begin{align*}\n",
    "L=& \\frac{1}{2}||w||_2^2 +C \\left[ \\nu \\epsilon + \\frac{1}{p}\\sum_{\\alpha=1}^p (\\varphi_{\\alpha}+ \\varphi_{\\alpha}^*) \\right]\n",
    "- \\sum_{\\alpha=1}^p \\lambda_{\\alpha} \\left( \\epsilon + \\varphi_{\\alpha} + y_T^{(\\alpha)} - w^T x^{(\\alpha)} - b \\right)\n",
    "- \\sum_{\\alpha=1}^p \\lambda_{\\alpha}^* \\left( \\epsilon + \\varphi_{\\alpha}^* - y_T^{(\\alpha)} + w^T x^{(\\alpha)} + b \\right)\n",
    "- \\sum_{\\alpha=1}^p \\eta_{\\alpha} \\varphi_{\\alpha}\n",
    "- \\sum_{\\alpha=1}^p \\eta_{\\alpha}^* \\varphi_{\\alpha}^*\n",
    "- \\delta \\epsilon \\\\\n",
    "=& \\frac{1}{2}w^T w +C \\left[ \\nu \\epsilon + \\frac{1}{p}\\sum_{\\alpha=1}^p (\\varphi_{\\alpha}+ \\varphi_{\\alpha}^*) \\right]\n",
    "- \\sum_{\\alpha=1}^p \\lambda_{\\alpha} \\left( \\epsilon + \\varphi_{\\alpha} + y_T^{(\\alpha)} - w^T x^{(\\alpha)} - b \\right)\n",
    "- \\sum_{\\alpha=1}^p \\lambda_{\\alpha}^* \\left( \\epsilon + \\varphi_{\\alpha}^* - y_T^{(\\alpha)} + w^T x^{(\\alpha)} + b \\right)\n",
    "- \\frac{C}{p} \\sum_{\\alpha=1}^p \\varphi_{\\alpha} + \\sum_{\\alpha=1}^p \\lambda_\\alpha \\varphi_{\\alpha}\n",
    "- \\frac{C}{p} \\sum_{\\alpha=1}^p \\varphi_{\\alpha}^* + \\sum_{\\alpha=1}^p \\lambda_\\alpha^* \\varphi_{\\alpha}^*\n",
    "- C \\nu \\epsilon + \\sum_{\\alpha=1}^p (\\lambda_\\alpha + \\lambda_\\alpha^*) \\epsilon \\\\\n",
    "\\end{align*}"
   ],
   "metadata": {
    "collapsed": false,
    "pycharm": {
     "name": "#%% md\n"
    }
   }
  },
  {
   "cell_type": "markdown",
   "source": [
    "Now lets rewrite and reduce\n",
    "\\begin{align*}\n",
    "L=& \\frac{1}{2}w^T w +C \\left[ \\nu \\epsilon + \\frac{1}{p}\\sum_{\\alpha=1}^p (\\varphi_{\\alpha}+ \\varphi_{\\alpha}^*) \\right]\n",
    "- \\sum_{\\alpha=1}^p (\\lambda_{\\alpha} + \\lambda_{\\alpha^*}) \\epsilon\n",
    "- \\sum_{\\alpha=1}^p \\lambda_{\\alpha} \\varphi_{\\alpha}\n",
    "- \\sum_{\\alpha=1}^p \\lambda_{\\alpha}^* \\varphi_{\\alpha}^*\n",
    "- \\sum_{\\alpha=1}^p \\lambda_{\\alpha} \\left(y_T^{(\\alpha)} - w^T x^{(\\alpha)} - b \\right)\n",
    "- \\sum_{\\alpha=1}^p \\lambda_{\\alpha}^* \\left(- y_T^{(\\alpha)} + w^T x^{(\\alpha)} + b \\right)\n",
    "- C \\left[ \\frac{1}{p} \\sum_{\\alpha=1}^p (\\varphi_{\\alpha} + \\varphi_{\\alpha}^*) + \\nu \\varepsilon \\right]\n",
    "+ \\sum_{\\alpha=1}^p \\lambda_\\alpha \\varphi_{\\alpha}\n",
    "+ \\sum_{\\alpha=1}^p \\lambda_\\alpha^* \\varphi_{\\alpha}^*\n",
    "+ \\sum_{\\alpha=1}^p (\\lambda_\\alpha + \\lambda_\\alpha^*) \\epsilon \\\\\n",
    "=& \\frac{1}{2}w^T w\n",
    "- \\sum_{\\alpha=1}^p \\lambda_{\\alpha} \\left(y_T^{(\\alpha)} - w^T x^{(\\alpha)} - b \\right)\n",
    "- \\sum_{\\alpha=1}^p \\lambda_{\\alpha}^* \\left(-y_T^{(\\alpha)} + w^T x^{(\\alpha)} + b \\right) \\\\\n",
    "=& \\frac{1}{2}w^T w\n",
    "+ \\sum_{\\alpha=1}^p \\lambda_{\\alpha} w^T x^{(\\alpha)}\n",
    "- \\sum_{\\alpha=1}^p \\lambda_{\\alpha}^* w^T x^{(\\alpha)}\n",
    "+ \\sum_{\\alpha=1}^p (\\lambda_{\\alpha}^* - \\lambda_{\\alpha}) y_T^{(\\alpha)}\n",
    "+ b \\sum_{\\alpha=1}^p (\\lambda_{\\alpha} - \\lambda_{\\alpha}^*)\\\\\n",
    "=& \\frac{1}{2}w^T w\n",
    "-w^T \\sum_{\\alpha=1}^p (\\lambda_{\\alpha}^* -\\lambda_{\\alpha}) x^{(\\alpha)}\n",
    "+ \\sum_{\\alpha=1}^p (\\lambda_{\\alpha}^* - \\lambda_{\\alpha}) y_T^{(\\alpha)} \\\\\n",
    "=& \\frac{1}{2}w^T w\n",
    "-w^T w\n",
    "+ \\sum_{\\alpha=1}^p (\\lambda_{\\alpha}^* - \\lambda_{\\alpha}) y_T^{(\\alpha)} \\\\\n",
    "=& -\\frac{1}{2}w^T w\n",
    "+ \\sum_{\\alpha=1}^p (\\lambda_{\\alpha}^* - \\lambda_{\\alpha}) y_T^{(\\alpha)} \\\\\n",
    "\\end{align*}\n"
   ],
   "metadata": {
    "collapsed": false,
    "pycharm": {
     "name": "#%% md\n"
    }
   }
  },
  {
   "cell_type": "markdown",
   "source": [
    "Now insert FOC of the weights\n",
    "\\begin{align*}\n",
    "L =& -\\frac{1}{2}w^T w\n",
    "+ \\sum_{\\alpha=1}^p (\\lambda_{\\alpha}^* - \\lambda_{\\alpha}) y_T^{(\\alpha)} \\\\\n",
    "=& -\\frac{1}{2} \\sum_{\\alpha, \\beta=1}^p (\\lambda_{\\alpha}^* - \\lambda_\\alpha) (\\lambda_{\\beta}^* - \\lambda_\\beta) (x^{(\\alpha)})^T x^{(\\beta)}\n",
    "+ \\sum_{\\alpha=1}^p (\\lambda_{\\alpha}^* - \\lambda_{\\alpha}) y_T^{(\\alpha)} \\\\\n",
    "\\end{align*}\n"
   ],
   "metadata": {
    "collapsed": false,
    "pycharm": {
     "name": "#%% md\n"
    }
   }
  },
  {
   "cell_type": "markdown",
   "source": [
    "Our maximization Problem has now the following form:\n",
    "\\begin{align*}\n",
    " \\max_{\\lambda_{\\alpha}, \\lambda_{\\alpha}^*} -\\frac{1}{2} \\sum_{\\alpha, \\beta=1}^p (\\lambda_{\\alpha}^* - \\lambda_\\alpha) (\\lambda_{\\beta}^* - \\lambda_\\beta) (x^{(\\alpha)})^T x^{(\\beta)} + \\sum_{\\alpha=1}^p (\\lambda_{\\alpha}^* - \\lambda_{\\alpha}) y_T^{(\\alpha)}\n",
    "\\end{align*}\n",
    "s.t.\n",
    "\\begin{align*}\n",
    "& \\sum_{\\alpha=1}^p (\\lambda_{\\alpha} - \\lambda_\\alpha^*) = 0 \\\\\n",
    "& 0 \\leq \\lambda_\\alpha \\leq \\frac{C}{p} \\\\\n",
    "& 0 \\leq \\lambda_\\alpha^* \\leq \\frac{C}{p} \\\\\n",
    "& \\sum_{\\alpha=1}^p (\\lambda_\\alpha + \\lambda_\\alpha^*) \\leq C \\nu \\\\\n",
    "\\end{align*}\n"
   ],
   "metadata": {
    "collapsed": false,
    "pycharm": {
     "name": "#%% md\n"
    }
   }
  }
 ],
 "metadata": {
  "kernelspec": {
   "display_name": "Python 3",
   "language": "python",
   "name": "python3"
  },
  "language_info": {
   "codemirror_mode": {
    "name": "ipython",
    "version": 2
   },
   "file_extension": ".py",
   "mimetype": "text/x-python",
   "name": "python",
   "nbconvert_exporter": "python",
   "pygments_lexer": "ipython2",
   "version": "2.7.6"
  }
 },
 "nbformat": 4,
 "nbformat_minor": 0
}