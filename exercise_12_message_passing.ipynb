{
 "cells": [
  {
   "cell_type": "markdown",
   "id": "d81b59db",
   "metadata": {},
   "source": [
    "**a)**\n",
    "1. request pass: from root B go to D and from there to leafes A, H, G \n",
    "2. collect pass: back from leaves to root B\n",
    "3. distribute pass: same as direct pass"
   ],
   "outputs": []
  },
  {
   "cell_type": "markdown",
   "id": "d2716101",
   "metadata": {},
   "source": [
    "**b)** calculate $\\mu_{f_{4} \\rightarrow D}(D)$ \\\\\n",
    "\\begin{align*}\n",
    "\\mu_{f_{4} \\rightarrow D}(D)&=\\sum_{e}f_4(D,e)\\prod \\text{\"incoming messages to} f_4\\text{\"} \\\\\n",
    "& = \\sum_{e}f_4(D,e) \\mu_{E \\rightarrow f_4}\n",
    "\\end{align*}\n",
    "where \n",
    "\\begin{align*}\n",
    "\\mu_{E \\rightarrow f_4}&=\\prod \\text{\"incoming messages to} E\\text{\"} \n",
    "&=\\mu_{f_7 \\rightarrow E}\\mu_{f_5 \\rightarrow E}\\\\\n",
    "\\end{align*}\n",
    "and\n",
    "\\begin{align*}\n",
    "\\mu_{f_7 \\rightarrow E}&=\\sum_{h}f_7(e,h)\\prod \\text{\"incoming messages to} f_7\\text{\"} \\\\\n",
    "&=\\sum_{h}f_7(e,h)\\mu_{H \\rightarrow f_7} \\\\\n",
    "&=\\sum_{h}f_7(e,h) \\prod \\text{\"incoming messages to} H\\text{\"}\\\\\n",
    "&=\\sum_{h}f_7(e,h) \\cdot 1\\\\\n",
    "&=\\sum_{h}f_7(e,h) \n",
    "\\end{align*}\n",
    "and\n",
    "\\begin{align*}\n",
    "\\mu_{f_5 \\rightarrow E}&=\\sum_{f}f_5(e,f)\\prod \\text{\"incoming messages to} f_5\\text{\"} \\\\\n",
    "&=\\sum_{f}f_5(e,f)\\mu_{F \\rightarrow f_5}\\\\\n",
    "&=\\sum_{f}f_5(e,f)\\prod \\text{\"incoming messages to} F\\text{\"}\\\\\n",
    "&=\\sum_{f}f_5(e,f)\\mu_{f_6 \\rightarrow F}\\\\\n",
    "&=\\sum_{f}f_5(e,f)\\sum_{g}f_6(f,g)\\prod  \\text{\"incoming messages to} f_6\\text{\"}  \\\\\n",
    "&=\\sum_{f}f_5(e,f)\\sum_{g}f_6(f,g)\\mu_{G \\rightarrow f_6}\\\\\n",
    "&=\\sum_{f}f_5(e,f)\\sum_{g}f_6(f,g)\\prod \\text{\"incoming messages to} G\\text{\"} \\\\\n",
    "&=\\sum_{f}f_5(e,f)\\sum_{g}f_6(f,g)\n",
    "\\end{align*}\n",
    "Putting all together yields:\n",
    "\\begin{align*}\n",
    "\\mu_{f_{4} \\rightarrow D}(D)&=\\sum_{e}f_4(D,e)\\sum_{h}f_7(e,h) \\sum_{f}f_5(e,f)\\sum_{g}f_6(f,g)\n",
    "\\end{align*}"
   ]
  },
  {
   "cell_type": "markdown",
   "id": "c60aeb1f",
   "metadata": {},
   "source": [
    "**c)** calculate $\\mu_{f_{4} \\rightarrow D}(D)$  after observing $F=f^*$ and $H=h^*$\n",
    "\n",
    "We can incorporate tis new evidence in our graph by adding clique potentials $f_8$ and $f_9$ to our graph, where we define $f_8(F)=\\mathbb{1}_{F=f^*}$ and $f_9(H)=\\mathbb{1}_{H=h^*}$. Note that this changes the products $\\prod \\text{\"incoming messages to} F$ and $\\prod \\text{\"incoming messages to} H\\text{\"}$ in the above calculation to\n",
    "\\begin{align*}\n",
    "\\prod \\text{\"incoming messages to} F&=\\mu_{f_6 \\rightarrow F} \\cdot \\mu_{f_8 \\rightarrow F} \\\\\n",
    "&= \\sum_{g}f_6(f,g) \\cdot f_8(f)\n",
    "\\end{align*}\n",
    "and\n",
    "\\begin{align*}\n",
    "\\prod \\text{\"incoming messages to} H&=\\mu_{f_9 \\rightarrow H} \\\\\n",
    "&= f_9(h)\n",
    "\\end{align*}\n",
    "which yields \n",
    "$$\\mu_{f_{4} \\rightarrow D}(D)=\\sum_{e}f_4(D,e)\\sum_{h}f_7(e,h)f_9(h) \\sum_{f}f_5(e,f)\\sum_{g}f_6(f,g)f_8(f)$$"
   ]
  },
  {
   "cell_type": "markdown",
   "id": "c0a980e1",
   "metadata": {},
   "source": [
    "**d)**\n",
    "\n",
    "$$\\mathbb{P}(D|F=f^*, H=h^*)= \\alpha \\mathbb{P}(D, F=f^*, H=h^*)$$\n",
    "where\n",
    "\\begin{align*}\n",
    "\\mathbb{P}(D, F=f^*, H=h^*)&=\\prod \\text{\"incoming messages to seperator D\"}\\\\\n",
    "&=\\mu_{f_1 \\rightarrow D}\\mu_{f_2 \\rightarrow D}\\mu_{f_2 \\rightarrow D}\\mu_{f_4 \\rightarrow D}\n",
    "\\end{align*}\n",
    "and $$\\alpha=\\frac{1}{\\mathbb{P}(F=f^*, H=h^*)}$$\n",
    "Same logic for: \n",
    "$$\\mathbb{P}(A|F=f^*, H=h^*)= \\alpha \\mathbb{P}(A, F=f^*, H=h^*)= \\frac{\\mu_{f_1 \\rightarrow A}}{\\mathbb{P}(F=f^*, H=h^*)}$$\n"
   ]
  },
  {
   "cell_type": "code",
   "execution_count": null,
   "id": "f5fe5fa2",
   "metadata": {},
   "outputs": [],
   "source": []
  }
 ],
 "metadata": {
  "kernelspec": {
   "display_name": "Python 3 (ipykernel)",
   "language": "python",
   "name": "python3"
  },
  "language_info": {
   "codemirror_mode": {
    "name": "ipython",
    "version": 3
   },
   "file_extension": ".py",
   "mimetype": "text/x-python",
   "name": "python",
   "nbconvert_exporter": "python",
   "pygments_lexer": "ipython3",
   "version": "3.8.8"
  }
 },
 "nbformat": 4,
 "nbformat_minor": 5
}
